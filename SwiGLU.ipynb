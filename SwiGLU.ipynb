{
  "nbformat": 4,
  "nbformat_minor": 0,
  "metadata": {
    "colab": {
      "provenance": [],
      "authorship_tag": "ABX9TyMz0OQC8dJkVdhHvGttrtWm",
      "include_colab_link": true
    },
    "kernelspec": {
      "name": "python3",
      "display_name": "Python 3"
    },
    "language_info": {
      "name": "python"
    }
  },
  "cells": [
    {
      "cell_type": "markdown",
      "metadata": {
        "id": "view-in-github",
        "colab_type": "text"
      },
      "source": [
        "<a href=\"https://colab.research.google.com/github/doudi25/SwiGlu-manual-implementation/blob/main/SwiGLU.ipynb\" target=\"_parent\"><img src=\"https://colab.research.google.com/assets/colab-badge.svg\" alt=\"Open In Colab\"/></a>"
      ]
    },
    {
      "cell_type": "code",
      "execution_count": 160,
      "metadata": {
        "id": "yzmYzZFroO9u"
      },
      "outputs": [],
      "source": [
        "import torch\n",
        "import torch.nn as nn\n",
        "import torch.nn.functional as F"
      ]
    },
    {
      "cell_type": "code",
      "source": [
        "class SwiGlu(nn.Module):\n",
        "  def __init__(self,in_features,hidden_size):\n",
        "    super().__init__()\n",
        "    self.swish = nn.Linear(in_features,hidden_size)\n",
        "    self.gate  = nn.Linear(in_features,hidden_size)\n",
        "    self.proj = nn.Linear(hidden_size,in_features)\n",
        "  def forward(self,x):\n",
        "    self.x = x\n",
        "    self.x1 = self.swish(x)\n",
        "    self.swish1 = F.silu(self.x1)\n",
        "    self.gate1 = self.gate(x)\n",
        "    self.out = self.swish1*self.gate1\n",
        "    projection = self.proj(self.out)\n",
        "    self.projection = projection\n",
        "    return projection"
      ],
      "metadata": {
        "id": "6uY13g68oWVZ"
      },
      "execution_count": 161,
      "outputs": []
    },
    {
      "cell_type": "code",
      "source": [
        "model = SwiGlu(5,10)"
      ],
      "metadata": {
        "id": "cv1YCqplpieG"
      },
      "execution_count": 162,
      "outputs": []
    },
    {
      "cell_type": "code",
      "source": [
        "a = torch.randn(10,5)\n"
      ],
      "metadata": {
        "id": "LFYh7__7pnv-"
      },
      "execution_count": 163,
      "outputs": []
    },
    {
      "cell_type": "code",
      "source": [
        "out = model(a)"
      ],
      "metadata": {
        "id": "CD21pRoI3Qns"
      },
      "execution_count": 164,
      "outputs": []
    },
    {
      "cell_type": "code",
      "source": [
        "dout = torch.ones_like(model.projection) @ model.proj.weight\n",
        "dsp =  model.out.T @ torch.ones_like(model.projection)\n",
        "dswish1 = dout*model.gate1\n",
        "dgate1 = model.swish1*dout\n",
        "dgate = model.x.T @ dgate1\n",
        "dx1 = dswish1 * ((1+torch.exp(-model.x1)+model.x1*torch.exp(-model.x1))/((1+torch.exp(-model.x1))**2))\n",
        "dswish = model.x.T @ dx1"
      ],
      "metadata": {
        "id": "xR5XXfblqq9D"
      },
      "execution_count": 165,
      "outputs": []
    },
    {
      "cell_type": "code",
      "source": [
        "sum = torch.sum(model.projection)\n",
        "sum.backward()"
      ],
      "metadata": {
        "id": "J7EBCyjHxgiJ"
      },
      "execution_count": 166,
      "outputs": []
    },
    {
      "cell_type": "code",
      "source": [
        "torch.allclose(dsp.T,model.proj.weight.grad)"
      ],
      "metadata": {
        "colab": {
          "base_uri": "https://localhost:8080/"
        },
        "id": "XJf0KiQU0Yuu",
        "outputId": "f70cc9db-7184-4ab3-88d4-7222554c4f76"
      },
      "execution_count": 167,
      "outputs": [
        {
          "output_type": "execute_result",
          "data": {
            "text/plain": [
              "True"
            ]
          },
          "metadata": {},
          "execution_count": 167
        }
      ]
    },
    {
      "cell_type": "code",
      "source": [
        "torch.allclose(dgate.T,model.gate.weight.grad)"
      ],
      "metadata": {
        "colab": {
          "base_uri": "https://localhost:8080/"
        },
        "id": "57GfExG80Z8u",
        "outputId": "d20a159b-0425-4e6c-813d-36190c1dd815"
      },
      "execution_count": 168,
      "outputs": [
        {
          "output_type": "execute_result",
          "data": {
            "text/plain": [
              "True"
            ]
          },
          "metadata": {},
          "execution_count": 168
        }
      ]
    },
    {
      "cell_type": "code",
      "source": [
        "torch.allclose(dswish.T,model.swish.weight.grad)"
      ],
      "metadata": {
        "colab": {
          "base_uri": "https://localhost:8080/"
        },
        "id": "8ot3k4nQ1KLe",
        "outputId": "d11a55c7-8859-4bf6-9924-feccbff96bde"
      },
      "execution_count": 169,
      "outputs": [
        {
          "output_type": "execute_result",
          "data": {
            "text/plain": [
              "True"
            ]
          },
          "metadata": {},
          "execution_count": 169
        }
      ]
    }
  ]
}